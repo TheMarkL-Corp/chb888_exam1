{
 "cells": [
  {
   "cell_type": "markdown",
   "id": "d5f64c4c-640e-4d7f-b174-a9b3fe175cbc",
   "metadata": {
    "tags": []
   },
   "source": [
    "## CH888A/B/C"
   ]
  },
  {
   "cell_type": "markdown",
   "id": "943ccbfa-dfd0-48d4-8fb7-97bb32ed0c57",
   "metadata": {},
   "source": [
    "Name: _________________________________________  Student Number: ______________________________________"
   ]
  },
  {
   "cell_type": "markdown",
   "id": "9dc73ff3-8d13-4270-ae0a-148f1dc9f924",
   "metadata": {},
   "source": [
    "1. [5%] Write the results of the following expressions:\n",
    "\n",
    "    a) -5 % 3*(2+1)//-3\n",
    "    \n",
    "    b) round(abs(-3/1 - 3/3), 2)\n",
    "    \n",
    "    c) str(int(\"6\" + \"00\") * 10432) + \"8\"\n",
    "    \n",
    "    d) \"Today is a good day\"[-5:].upper().strip()\n",
    "    \n",
    "    e) not 13 or True and \"g\" > \"k\""
   ]
  },
  {
   "cell_type": "code",
   "execution_count": 3,
   "id": "1705a7d1-b4fb-445a-ba68-1bc0288aa56d",
   "metadata": {},
   "outputs": [
    {
     "data": {
      "text/plain": [
       "-1"
      ]
     },
     "execution_count": 3,
     "metadata": {},
     "output_type": "execute_result"
    }
   ],
   "source": [
    "# Answer to a)\n",
    "\n",
    "-5 % 3*(2+1)//-3 "
   ]
  },
  {
   "cell_type": "code",
   "execution_count": 4,
   "id": "e6ab2db9-1639-4994-835c-2e30b80d3e0f",
   "metadata": {},
   "outputs": [
    {
     "data": {
      "text/plain": [
       "4.0"
      ]
     },
     "execution_count": 4,
     "metadata": {},
     "output_type": "execute_result"
    }
   ],
   "source": [
    "# Answer to b)\n",
    "\n",
    "round(abs(-3/1 - 3/3), 2)"
   ]
  },
  {
   "cell_type": "code",
   "execution_count": 5,
   "id": "279a6e16-7616-472b-9854-ccccdaf70638",
   "metadata": {},
   "outputs": [
    {
     "data": {
      "text/plain": [
       "'62592008'"
      ]
     },
     "execution_count": 5,
     "metadata": {},
     "output_type": "execute_result"
    }
   ],
   "source": [
    "# Answer to c)\n",
    "\n",
    "str(int(\"6\" + \"00\") * 10432) + \"8\""
   ]
  },
  {
   "cell_type": "code",
   "execution_count": 7,
   "id": "5a04f64a-2858-4b13-815d-e66edf599a06",
   "metadata": {},
   "outputs": [
    {
     "data": {
      "text/plain": [
       "'D DAY'"
      ]
     },
     "execution_count": 7,
     "metadata": {},
     "output_type": "execute_result"
    }
   ],
   "source": [
    "# Answer to d)\n",
    "\n",
    "\"Today is a good day\"[-5:].upper().strip()"
   ]
  },
  {
   "cell_type": "code",
   "execution_count": 9,
   "id": "3541f418-ee93-45a0-9a81-58968c2eff2f",
   "metadata": {
    "tags": []
   },
   "outputs": [
    {
     "data": {
      "text/plain": [
       "False"
      ]
     },
     "execution_count": 9,
     "metadata": {},
     "output_type": "execute_result"
    }
   ],
   "source": [
    "# Answer to e)\n",
    "\n",
    "not 13 or True and \"g\" > \"k\""
   ]
  }
 ],
 "metadata": {
  "kernelspec": {
   "display_name": "Python 3 (ipykernel)",
   "language": "python",
   "name": "python3"
  },
  "language_info": {
   "codemirror_mode": {
    "name": "ipython",
    "version": 3
   },
   "file_extension": ".py",
   "mimetype": "text/x-python",
   "name": "python",
   "nbconvert_exporter": "python",
   "pygments_lexer": "ipython3",
   "version": "3.7.16"
  }
 },
 "nbformat": 4,
 "nbformat_minor": 5
}
